{
 "cells": [
  {
   "cell_type": "code",
   "execution_count": null,
   "id": "a92e31ba-353d-4506-aecc-7a5ebc5968af",
   "metadata": {},
   "outputs": [],
   "source": [
    "import sys\n",
    "\n",
    "sys.path.append(\"../src/\")\n",
    "\n",
    "from torch_geometric.data import Data\n",
    "from data.datamodule import DataModule\n",
    "from models.graph_mol import GraphModel\n",
    "from lightning.pytorch.utilities.model_summary import ModelSummary\n",
    "from tqdm import tqdm\n",
    "import torch\n",
    "import pickle"
   ]
  },
  {
   "cell_type": "markdown",
   "id": "ea012829-31c9-4ea4-8ecf-c3b094caba5a",
   "metadata": {},
   "source": [
    "# Find atom types"
   ]
  },
  {
   "cell_type": "code",
   "execution_count": null,
   "id": "e1365094-57d6-4cf4-9ee8-feca8946d2ad",
   "metadata": {},
   "outputs": [],
   "source": [
    "z = set()\n",
    "indices = [_ for _ in range(1, 133886)]\n",
    "for i in tqdm(indices):\n",
    "    with open(f\"../data/processed/{i:0>6}.pkl\", \"rb\") as fio:\n",
    "        z |= set(pickle.load(fio)[\"z\"])\n",
    "print(z)"
   ]
  },
  {
   "cell_type": "markdown",
   "id": "26f5d669-72cf-4f9a-bbdf-89b15b5d2f0a",
   "metadata": {},
   "source": [
    "# Test train split"
   ]
  },
  {
   "cell_type": "code",
   "execution_count": null,
   "id": "3998410c-7fbb-48b0-9c55-117d90a1c291",
   "metadata": {},
   "outputs": [],
   "source": [
    "with open(\"../data/partition.pkl\", \"rb\") as fio:\n",
    "    partition = pickle.load(fio)"
   ]
  },
  {
   "cell_type": "code",
   "execution_count": null,
   "id": "df764f51-43eb-46e8-8cd8-58de73376d8b",
   "metadata": {},
   "outputs": [],
   "source": [
    "print(\n",
    "    f\"Data:\\n\"\n",
    "    f\"Train: {len(partition['train'])}\\n\"\n",
    "    f\"Validation: {len(partition['val'])}\\n\"\n",
    "    f\"Test: {len(partition['test'])}\"\n",
    ")"
   ]
  },
  {
   "cell_type": "markdown",
   "id": "29497c46-4733-4266-9b3e-b0dd26508c7d",
   "metadata": {},
   "source": [
    "# Data loader"
   ]
  },
  {
   "cell_type": "code",
   "execution_count": null,
   "id": "65cce9c3-0158-4d14-bbea-50250a9460d0",
   "metadata": {},
   "outputs": [],
   "source": [
    "datamodule = DataModule(folder=\"../data\")"
   ]
  },
  {
   "cell_type": "code",
   "execution_count": null,
   "id": "d545511f-955f-410a-b634-714ca0f31a85",
   "metadata": {},
   "outputs": [],
   "source": [
    "trainloader = datamodule.train_dataloader()"
   ]
  },
  {
   "cell_type": "code",
   "execution_count": null,
   "id": "9427c27c-c671-4a9c-955e-6feab915e8a9",
   "metadata": {},
   "outputs": [],
   "source": [
    "data = trainloader.dataset[1]\n",
    "\n",
    "for batch in trainloader:\n",
    "    break"
   ]
  },
  {
   "cell_type": "code",
   "execution_count": null,
   "id": "62f11888-f4f4-4bbb-894f-80ef6233f42b",
   "metadata": {},
   "outputs": [],
   "source": [
    "data"
   ]
  },
  {
   "cell_type": "code",
   "execution_count": null,
   "id": "e7490a69-3149-46f5-9569-7395e133ca61",
   "metadata": {},
   "outputs": [],
   "source": [
    "batch"
   ]
  },
  {
   "cell_type": "markdown",
   "id": "b434a727-a643-4ca2-808f-3e14e7336c76",
   "metadata": {},
   "source": [
    "# Model"
   ]
  },
  {
   "cell_type": "code",
   "execution_count": null,
   "id": "21ba08e2-5273-4e02-9908-e629af309a04",
   "metadata": {},
   "outputs": [],
   "source": [
    "graphmol = GraphModel(5, 32, 10, 1)"
   ]
  },
  {
   "cell_type": "code",
   "execution_count": null,
   "id": "34ffac5e-1c8f-4aa4-b987-aa642431fc19",
   "metadata": {},
   "outputs": [],
   "source": [
    "ModelSummary(graphmol)"
   ]
  },
  {
   "cell_type": "code",
   "execution_count": null,
   "id": "916b9eff-6f13-4614-a3ee-9296ac3348c9",
   "metadata": {},
   "outputs": [],
   "source": [
    "G, gap, charge = graphmol(batch.x, batch.edge_index, batch.edge_attr, batch.batch)"
   ]
  },
  {
   "cell_type": "code",
   "execution_count": null,
   "id": "0ea6fb7a-6685-49f1-80d5-bd3aff858427",
   "metadata": {},
   "outputs": [],
   "source": [
    "G, gap, charge = graphmol(data.x, data.edge_index, data.edge_attr)"
   ]
  },
  {
   "cell_type": "code",
   "execution_count": null,
   "id": "bc328413-dd5c-4b2f-bc8b-8b277e7078b1",
   "metadata": {},
   "outputs": [],
   "source": [
    "graphmol.training_step(batch)"
   ]
  },
  {
   "cell_type": "markdown",
   "id": "40876491-cccc-4430-bd88-c1ff5881400a",
   "metadata": {},
   "source": [
    "## on GPU"
   ]
  },
  {
   "cell_type": "code",
   "execution_count": null,
   "id": "b90d0478-6f56-4245-ac17-25362511c71c",
   "metadata": {},
   "outputs": [],
   "source": [
    "graphmol.to(torch.device(\"cuda:0\"))\n",
    "batch.to(torch.device(\"cuda:0\"))\n",
    "loss = graphmol.training_step(batch)"
   ]
  },
  {
   "cell_type": "code",
   "execution_count": null,
   "id": "8d54d438-5679-4611-bfff-002ea0f89e62",
   "metadata": {},
   "outputs": [],
   "source": [
    "loss.backward()"
   ]
  }
 ],
 "metadata": {
  "kernelspec": {
   "display_name": "Python 3 (ipykernel)",
   "language": "python",
   "name": "python3"
  },
  "language_info": {
   "codemirror_mode": {
    "name": "ipython",
    "version": 3
   },
   "file_extension": ".py",
   "mimetype": "text/x-python",
   "name": "python",
   "nbconvert_exporter": "python",
   "pygments_lexer": "ipython3",
   "version": "3.10.12"
  }
 },
 "nbformat": 4,
 "nbformat_minor": 5
}
