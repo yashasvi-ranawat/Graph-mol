{
 "cells": [
  {
   "cell_type": "code",
   "execution_count": 1,
   "id": "a92e31ba-353d-4506-aecc-7a5ebc5968af",
   "metadata": {},
   "outputs": [],
   "source": [
    "import sys\n",
    "\n",
    "sys.path.append(\"../src/\")\n",
    "\n",
    "from torch_geometric.data import Data\n",
    "from data.datamodule import DataModule\n",
    "from tqdm import tqdm\n",
    "import torch"
   ]
  },
  {
   "cell_type": "markdown",
   "id": "ea012829-31c9-4ea4-8ecf-c3b094caba5a",
   "metadata": {},
   "source": [
    "# Find atom types"
   ]
  },
  {
   "cell_type": "code",
   "execution_count": 2,
   "id": "e1365094-57d6-4cf4-9ee8-feca8946d2ad",
   "metadata": {},
   "outputs": [
    {
     "name": "stderr",
     "output_type": "stream",
     "text": [
      "100%|██████████████████████████████████████████████████████████| 133885/133885 [00:04<00:00, 31082.41it/s]"
     ]
    },
    {
     "name": "stdout",
     "output_type": "stream",
     "text": [
      "{1, 6, 7, 8, 9}\n"
     ]
    },
    {
     "name": "stderr",
     "output_type": "stream",
     "text": [
      "\n"
     ]
    }
   ],
   "source": [
    "z = set()\n",
    "indices = [_ for _ in range(1, 133886)]\n",
    "for i in tqdm(indices):\n",
    "    with open(f\"../data/processed/{i:0>6}.pkl\", \"rb\") as fio:\n",
    "        z |= set(pickle.load(fio)[\"z\"])\n",
    "print(z)"
   ]
  },
  {
   "cell_type": "markdown",
   "id": "29497c46-4733-4266-9b3e-b0dd26508c7d",
   "metadata": {},
   "source": [
    "# Data loader"
   ]
  },
  {
   "cell_type": "code",
   "execution_count": 2,
   "id": "65cce9c3-0158-4d14-bbea-50250a9460d0",
   "metadata": {},
   "outputs": [
    {
     "name": "stdout",
     "output_type": "stream",
     "text": [
      "# Data: train = 96396\n",
      "#       validation = 24100\n",
      "#       test = 13389\n"
     ]
    }
   ],
   "source": [
    "datamodule = DataModule(folder=\"../data\")"
   ]
  },
  {
   "cell_type": "code",
   "execution_count": 3,
   "id": "d545511f-955f-410a-b634-714ca0f31a85",
   "metadata": {},
   "outputs": [],
   "source": [
    "trainloader = datamodule.train_dataloader()"
   ]
  },
  {
   "cell_type": "code",
   "execution_count": 4,
   "id": "2bafc89e-7aa5-426d-a56f-97c4df6e30c8",
   "metadata": {},
   "outputs": [],
   "source": [
    "data = trainloader.dataset[1]"
   ]
  },
  {
   "cell_type": "code",
   "execution_count": 5,
   "id": "62f11888-f4f4-4bbb-894f-80ef6233f42b",
   "metadata": {},
   "outputs": [
    {
     "data": {
      "text/plain": [
       "Data(x=[20, 5], edge_index=[2, 42], edge_attr=[42, 1], G=[1, 1], gap=[1, 1], c=[20, 1])"
      ]
     },
     "execution_count": 5,
     "metadata": {},
     "output_type": "execute_result"
    }
   ],
   "source": [
    "data"
   ]
  },
  {
   "cell_type": "markdown",
   "id": "b434a727-a643-4ca2-808f-3e14e7336c76",
   "metadata": {},
   "source": [
    "# Model"
   ]
  },
  {
   "cell_type": "code",
   "execution_count": null,
   "id": "d5b528fd-ed24-4d13-8a2a-5e6db272c231",
   "metadata": {},
   "outputs": [],
   "source": []
  }
 ],
 "metadata": {
  "kernelspec": {
   "display_name": "Python 3 (ipykernel)",
   "language": "python",
   "name": "python3"
  },
  "language_info": {
   "codemirror_mode": {
    "name": "ipython",
    "version": 3
   },
   "file_extension": ".py",
   "mimetype": "text/x-python",
   "name": "python",
   "nbconvert_exporter": "python",
   "pygments_lexer": "ipython3",
   "version": "3.10.12"
  }
 },
 "nbformat": 4,
 "nbformat_minor": 5
}
